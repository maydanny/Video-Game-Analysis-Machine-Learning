{
  "nbformat": 4,
  "nbformat_minor": 0,
  "metadata": {
    "colab": {
      "name": "video games ml logistic.ipynb",
      "provenance": [],
      "collapsed_sections": []
    },
    "kernelspec": {
      "name": "python3",
      "display_name": "Python 3"
    },
    "language_info": {
      "name": "python"
    }
  },
  "cells": [
    {
      "cell_type": "markdown",
      "metadata": {
        "id": "7nZb1pG1LD3U"
      },
      "source": [
        "In this notebook, we'll be attempting to see which console (XBox or PS4) is more popular in the states based on sales and year. Because there are multiple versions of the Playstation, and Xbox, we'll be mixing them together. "
      ]
    },
    {
      "cell_type": "code",
      "metadata": {
        "id": "jBFEoSvcOPii"
      },
      "source": [
        "import pandas as pd\n",
        "import numpy as np\n",
        "import matplotlib\n",
        "from matplotlib import pyplot as plt\n",
        "\n",
        "from sklearn import preprocessing\n",
        "from sklearn.model_selection import train_test_split \n",
        "from sklearn.linear_model import LogisticRegression"
      ],
      "execution_count": 233,
      "outputs": []
    },
    {
      "cell_type": "markdown",
      "metadata": {
        "id": "JFVt3-2WPr9R"
      },
      "source": [
        "Reading the dataframe in from the file."
      ]
    },
    {
      "cell_type": "code",
      "metadata": {
        "id": "vpIOzJTWNs68"
      },
      "source": [
        "df = pd.read_csv(\"vgsales.csv\")"
      ],
      "execution_count": 234,
      "outputs": []
    },
    {
      "cell_type": "markdown",
      "metadata": {
        "id": "mutIB8Ta1v1l"
      },
      "source": [
        "Checking for unique values in the Platform column. "
      ]
    },
    {
      "cell_type": "code",
      "metadata": {
        "colab": {
          "base_uri": "https://localhost:8080/"
        },
        "id": "yJoLzd1SPuQf",
        "outputId": "b9f69085-c43b-4554-c9f0-e4d8b3fb327d"
      },
      "source": [
        "df[\"Platform\"].unique()"
      ],
      "execution_count": 235,
      "outputs": [
        {
          "output_type": "execute_result",
          "data": {
            "text/plain": [
              "array(['Wii', 'NES', 'GB', 'DS', 'X360', 'PS3', 'PS2', 'SNES', 'GBA',\n",
              "       '3DS', 'PS4', 'N64', 'PS', 'XB', 'PC', '2600', 'PSP', 'XOne', 'GC',\n",
              "       'WiiU', 'GEN', 'DC', 'PSV', 'SAT', 'SCD', 'WS', 'NG', 'TG16',\n",
              "       '3DO', 'GG', 'PCFX'], dtype=object)"
            ]
          },
          "metadata": {
            "tags": []
          },
          "execution_count": 235
        }
      ]
    },
    {
      "cell_type": "markdown",
      "metadata": {
        "id": "XSrCwdYQQpaw"
      },
      "source": [
        "Changing all Xbox consoles to 0, and all Playstation consoles to 1. "
      ]
    },
    {
      "cell_type": "code",
      "metadata": {
        "id": "FQQ10khcQLaA"
      },
      "source": [
        "Xbox = [\"XB\",\"X360\",\"XOne\"]\n",
        "Playstation = [\"PS4\",\"PS3\",\"PS2\",\"PS\"]"
      ],
      "execution_count": 236,
      "outputs": []
    },
    {
      "cell_type": "code",
      "metadata": {
        "id": "EAz_xUd4P5fH"
      },
      "source": [
        "df[\"Platform\"] = np.where(df[\"Platform\"].isin(Xbox),0,df[\"Platform\"])\n",
        "df[\"Platform\"] = np.where(df[\"Platform\"].isin(Playstation),1,df[\"Platform\"])"
      ],
      "execution_count": 237,
      "outputs": []
    },
    {
      "cell_type": "code",
      "metadata": {
        "colab": {
          "base_uri": "https://localhost:8080/",
          "height": 453
        },
        "id": "DqE_J46-QasB",
        "outputId": "a4780a50-91c6-48a7-e765-c9ef771d3c97"
      },
      "source": [
        "df.loc[df[\"Platform\"] == 1]"
      ],
      "execution_count": 238,
      "outputs": [
        {
          "output_type": "execute_result",
          "data": {
            "text/html": [
              "<div>\n",
              "<style scoped>\n",
              "    .dataframe tbody tr th:only-of-type {\n",
              "        vertical-align: middle;\n",
              "    }\n",
              "\n",
              "    .dataframe tbody tr th {\n",
              "        vertical-align: top;\n",
              "    }\n",
              "\n",
              "    .dataframe thead th {\n",
              "        text-align: right;\n",
              "    }\n",
              "</style>\n",
              "<table border=\"1\" class=\"dataframe\">\n",
              "  <thead>\n",
              "    <tr style=\"text-align: right;\">\n",
              "      <th></th>\n",
              "      <th>Rank</th>\n",
              "      <th>Name</th>\n",
              "      <th>Platform</th>\n",
              "      <th>Year</th>\n",
              "      <th>Genre</th>\n",
              "      <th>Publisher</th>\n",
              "      <th>NA_Sales</th>\n",
              "      <th>EU_Sales</th>\n",
              "      <th>JP_Sales</th>\n",
              "      <th>Other_Sales</th>\n",
              "      <th>Global_Sales</th>\n",
              "    </tr>\n",
              "  </thead>\n",
              "  <tbody>\n",
              "    <tr>\n",
              "      <th>16</th>\n",
              "      <td>17</td>\n",
              "      <td>Grand Theft Auto V</td>\n",
              "      <td>1</td>\n",
              "      <td>2013.0</td>\n",
              "      <td>Action</td>\n",
              "      <td>Take-Two Interactive</td>\n",
              "      <td>7.01</td>\n",
              "      <td>9.27</td>\n",
              "      <td>0.97</td>\n",
              "      <td>4.14</td>\n",
              "      <td>21.40</td>\n",
              "    </tr>\n",
              "    <tr>\n",
              "      <th>17</th>\n",
              "      <td>18</td>\n",
              "      <td>Grand Theft Auto: San Andreas</td>\n",
              "      <td>1</td>\n",
              "      <td>2004.0</td>\n",
              "      <td>Action</td>\n",
              "      <td>Take-Two Interactive</td>\n",
              "      <td>9.43</td>\n",
              "      <td>0.40</td>\n",
              "      <td>0.41</td>\n",
              "      <td>10.57</td>\n",
              "      <td>20.81</td>\n",
              "    </tr>\n",
              "    <tr>\n",
              "      <th>24</th>\n",
              "      <td>25</td>\n",
              "      <td>Grand Theft Auto: Vice City</td>\n",
              "      <td>1</td>\n",
              "      <td>2002.0</td>\n",
              "      <td>Action</td>\n",
              "      <td>Take-Two Interactive</td>\n",
              "      <td>8.41</td>\n",
              "      <td>5.49</td>\n",
              "      <td>0.47</td>\n",
              "      <td>1.78</td>\n",
              "      <td>16.15</td>\n",
              "    </tr>\n",
              "    <tr>\n",
              "      <th>28</th>\n",
              "      <td>29</td>\n",
              "      <td>Gran Turismo 3: A-Spec</td>\n",
              "      <td>1</td>\n",
              "      <td>2001.0</td>\n",
              "      <td>Racing</td>\n",
              "      <td>Sony Computer Entertainment</td>\n",
              "      <td>6.85</td>\n",
              "      <td>5.09</td>\n",
              "      <td>1.87</td>\n",
              "      <td>1.16</td>\n",
              "      <td>14.98</td>\n",
              "    </tr>\n",
              "    <tr>\n",
              "      <th>33</th>\n",
              "      <td>34</td>\n",
              "      <td>Call of Duty: Black Ops 3</td>\n",
              "      <td>1</td>\n",
              "      <td>2015.0</td>\n",
              "      <td>Shooter</td>\n",
              "      <td>Activision</td>\n",
              "      <td>5.77</td>\n",
              "      <td>5.81</td>\n",
              "      <td>0.35</td>\n",
              "      <td>2.31</td>\n",
              "      <td>14.24</td>\n",
              "    </tr>\n",
              "    <tr>\n",
              "      <th>...</th>\n",
              "      <td>...</td>\n",
              "      <td>...</td>\n",
              "      <td>...</td>\n",
              "      <td>...</td>\n",
              "      <td>...</td>\n",
              "      <td>...</td>\n",
              "      <td>...</td>\n",
              "      <td>...</td>\n",
              "      <td>...</td>\n",
              "      <td>...</td>\n",
              "      <td>...</td>\n",
              "    </tr>\n",
              "    <tr>\n",
              "      <th>16561</th>\n",
              "      <td>16564</td>\n",
              "      <td>Kanokon: Esuii</td>\n",
              "      <td>1</td>\n",
              "      <td>2008.0</td>\n",
              "      <td>Adventure</td>\n",
              "      <td>5pb</td>\n",
              "      <td>0.00</td>\n",
              "      <td>0.00</td>\n",
              "      <td>0.01</td>\n",
              "      <td>0.00</td>\n",
              "      <td>0.01</td>\n",
              "    </tr>\n",
              "    <tr>\n",
              "      <th>16570</th>\n",
              "      <td>16573</td>\n",
              "      <td>Farming 2017 - The Simulation</td>\n",
              "      <td>1</td>\n",
              "      <td>2016.0</td>\n",
              "      <td>Simulation</td>\n",
              "      <td>UIG Entertainment</td>\n",
              "      <td>0.00</td>\n",
              "      <td>0.01</td>\n",
              "      <td>0.00</td>\n",
              "      <td>0.00</td>\n",
              "      <td>0.01</td>\n",
              "    </tr>\n",
              "    <tr>\n",
              "      <th>16572</th>\n",
              "      <td>16575</td>\n",
              "      <td>Scarlett: Nichijou no Kyoukaisen</td>\n",
              "      <td>1</td>\n",
              "      <td>2008.0</td>\n",
              "      <td>Adventure</td>\n",
              "      <td>Kadokawa Shoten</td>\n",
              "      <td>0.00</td>\n",
              "      <td>0.00</td>\n",
              "      <td>0.01</td>\n",
              "      <td>0.00</td>\n",
              "      <td>0.01</td>\n",
              "    </tr>\n",
              "    <tr>\n",
              "      <th>16580</th>\n",
              "      <td>16583</td>\n",
              "      <td>Real Rode</td>\n",
              "      <td>1</td>\n",
              "      <td>2008.0</td>\n",
              "      <td>Adventure</td>\n",
              "      <td>Kadokawa Shoten</td>\n",
              "      <td>0.00</td>\n",
              "      <td>0.00</td>\n",
              "      <td>0.01</td>\n",
              "      <td>0.00</td>\n",
              "      <td>0.01</td>\n",
              "    </tr>\n",
              "    <tr>\n",
              "      <th>16595</th>\n",
              "      <td>16598</td>\n",
              "      <td>SCORE International Baja 1000: The Official Game</td>\n",
              "      <td>1</td>\n",
              "      <td>2008.0</td>\n",
              "      <td>Racing</td>\n",
              "      <td>Activision</td>\n",
              "      <td>0.00</td>\n",
              "      <td>0.00</td>\n",
              "      <td>0.00</td>\n",
              "      <td>0.00</td>\n",
              "      <td>0.01</td>\n",
              "    </tr>\n",
              "  </tbody>\n",
              "</table>\n",
              "<p>5022 rows × 11 columns</p>\n",
              "</div>"
            ],
            "text/plain": [
              "        Rank  ... Global_Sales\n",
              "16        17  ...        21.40\n",
              "17        18  ...        20.81\n",
              "24        25  ...        16.15\n",
              "28        29  ...        14.98\n",
              "33        34  ...        14.24\n",
              "...      ...  ...          ...\n",
              "16561  16564  ...         0.01\n",
              "16570  16573  ...         0.01\n",
              "16572  16575  ...         0.01\n",
              "16580  16583  ...         0.01\n",
              "16595  16598  ...         0.01\n",
              "\n",
              "[5022 rows x 11 columns]"
            ]
          },
          "metadata": {
            "tags": []
          },
          "execution_count": 238
        }
      ]
    },
    {
      "cell_type": "code",
      "metadata": {
        "id": "iMnaC82fRc7p"
      },
      "source": [
        ""
      ],
      "execution_count": 238,
      "outputs": []
    },
    {
      "cell_type": "markdown",
      "metadata": {
        "id": "sHSfFG9rR7ow"
      },
      "source": [
        "Getting the x and y values."
      ]
    },
    {
      "cell_type": "code",
      "metadata": {
        "id": "W8tqcMsRR9po"
      },
      "source": [
        "selected_df = df.loc[df[\"Platform\"].isin([0,1])]\n",
        "selected_df = selected_df.dropna()"
      ],
      "execution_count": 239,
      "outputs": []
    },
    {
      "cell_type": "markdown",
      "metadata": {
        "id": "rQytt5Y8aRV4"
      },
      "source": [
        "Setting up the y values, either Xbox or Playstation"
      ]
    },
    {
      "cell_type": "code",
      "metadata": {
        "id": "_JohpF-kU08X"
      },
      "source": [
        "selected_y = selected_df[\"Platform\"]\n",
        "selected_y = selected_y.astype(int)"
      ],
      "execution_count": 240,
      "outputs": []
    },
    {
      "cell_type": "code",
      "metadata": {
        "id": "YtwHHVo3Surw"
      },
      "source": [
        "selected_x = selected_df[[\"Year\",\"NA_Sales\",\"EU_Sales\",\"JP_Sales\"]]"
      ],
      "execution_count": 241,
      "outputs": []
    },
    {
      "cell_type": "markdown",
      "metadata": {
        "id": "sXn7bXBaaXV_"
      },
      "source": [
        "Checking for NaN values, and thus removing it, if found. "
      ]
    },
    {
      "cell_type": "code",
      "metadata": {
        "colab": {
          "base_uri": "https://localhost:8080/"
        },
        "id": "NtsjGT6sUayX",
        "outputId": "145bdce5-4798-4b25-c7e1-dbab5a98b71d"
      },
      "source": [
        "selected_x.isnull().values.any()\n",
        "selected_df.isnull().values.any()"
      ],
      "execution_count": 242,
      "outputs": [
        {
          "output_type": "execute_result",
          "data": {
            "text/plain": [
              "False"
            ]
          },
          "metadata": {
            "tags": []
          },
          "execution_count": 242
        }
      ]
    },
    {
      "cell_type": "markdown",
      "metadata": {
        "id": "9mgbZ2IDaZrM"
      },
      "source": [
        "Preprocessing data. "
      ]
    },
    {
      "cell_type": "code",
      "metadata": {
        "id": "dFvcrpVXT-E_"
      },
      "source": [
        "x_scale = np.array(preprocessing.scale(selected_x))"
      ],
      "execution_count": 243,
      "outputs": []
    },
    {
      "cell_type": "markdown",
      "metadata": {
        "id": "rgCqIVb7abGE"
      },
      "source": [
        "Splitting up the data, and then reshaping so that we can use it to fit the logistic regression model. "
      ]
    },
    {
      "cell_type": "code",
      "metadata": {
        "id": "C1ZTFHoTUpsx"
      },
      "source": [
        "x_train,x_test,y_train,y_test = train_test_split(x_scale,selected_y)\n",
        "y_2d_train = y_train.values.reshape(y_train.shape[0],1)\n",
        "y_2d_test = y_test.values.reshape(y_test.shape[0],1)"
      ],
      "execution_count": 244,
      "outputs": []
    },
    {
      "cell_type": "markdown",
      "metadata": {
        "id": "DgemhLPHAUXV"
      },
      "source": [
        "All around function"
      ]
    },
    {
      "cell_type": "code",
      "metadata": {
        "id": "I8mfw3jqAVXX"
      },
      "source": [
        "def accuracies(x_train,y_train,x_test,y_test):\n",
        "  yhat_train = logreg.predict(x_train)\n",
        "  acc_train = np.mean(yhat_train == y_train)\n",
        "  print(\"Accuracy on training data = %f\" % acc_train)\n",
        "\n",
        "  yhat_test = logreg.predict(x_test)\n",
        "  acc_test = np.mean(yhat_test == y_test)\n",
        "  print(\"Accuracy on test data = %f\" % acc_test)\n",
        "\n",
        "  return acc_train,acc_test\n"
      ],
      "execution_count": 245,
      "outputs": []
    },
    {
      "cell_type": "code",
      "metadata": {
        "id": "kAdWKMaVCe3Y"
      },
      "source": [
        "num = [.0001,.001,.01,.1,1,10]"
      ],
      "execution_count": 246,
      "outputs": []
    },
    {
      "cell_type": "code",
      "metadata": {
        "id": "uD75HOsBGbrV"
      },
      "source": [
        "ridge_test = []\n",
        "ridge_train = []\n",
        "lasso_test = []\n",
        "lasso_train = []\n",
        "minmax_test = []\n",
        "minmax_train = []\n",
        "pft_test = []\n",
        "pft_train = []"
      ],
      "execution_count": 247,
      "outputs": []
    },
    {
      "cell_type": "markdown",
      "metadata": {
        "id": "ALf7HbdKafkg"
      },
      "source": [
        "# Logistic Regression with Ridge"
      ]
    },
    {
      "cell_type": "code",
      "metadata": {
        "colab": {
          "base_uri": "https://localhost:8080/"
        },
        "id": "X0s3ZLkNTi1Z",
        "outputId": "c71895fb-08e7-4610-f055-bf4dce48be01"
      },
      "source": [
        "for c in num:\n",
        "  logreg = LogisticRegression(C = c)\n",
        "  logreg.fit(x_train,y_2d_train)\n",
        "  train,test = accuracies(x_train,y_2d_train,x_test,y_2d_test)\n",
        "  ridge_test.append(test)\n",
        "  ridge_train.append(train)"
      ],
      "execution_count": 248,
      "outputs": [
        {
          "output_type": "stream",
          "text": [
            "/usr/local/lib/python3.7/dist-packages/sklearn/utils/validation.py:760: DataConversionWarning: A column-vector y was passed when a 1d array was expected. Please change the shape of y to (n_samples, ), for example using ravel().\n",
            "  y = column_or_1d(y, warn=True)\n",
            "/usr/local/lib/python3.7/dist-packages/sklearn/utils/validation.py:760: DataConversionWarning: A column-vector y was passed when a 1d array was expected. Please change the shape of y to (n_samples, ), for example using ravel().\n",
            "  y = column_or_1d(y, warn=True)\n"
          ],
          "name": "stderr"
        },
        {
          "output_type": "stream",
          "text": [
            "Accuracy on training data = 0.685603\n",
            "Accuracy on test data = 0.694229\n",
            "Accuracy on training data = 0.684436\n",
            "Accuracy on test data = 0.693366\n"
          ],
          "name": "stdout"
        },
        {
          "output_type": "stream",
          "text": [
            "/usr/local/lib/python3.7/dist-packages/sklearn/utils/validation.py:760: DataConversionWarning: A column-vector y was passed when a 1d array was expected. Please change the shape of y to (n_samples, ), for example using ravel().\n",
            "  y = column_or_1d(y, warn=True)\n",
            "/usr/local/lib/python3.7/dist-packages/sklearn/utils/validation.py:760: DataConversionWarning: A column-vector y was passed when a 1d array was expected. Please change the shape of y to (n_samples, ), for example using ravel().\n",
            "  y = column_or_1d(y, warn=True)\n"
          ],
          "name": "stderr"
        },
        {
          "output_type": "stream",
          "text": [
            "Accuracy on training data = 0.655929\n",
            "Accuracy on test data = 0.664264\n",
            "Accuracy on training data = 0.636558\n",
            "Accuracy on test data = 0.641198\n"
          ],
          "name": "stdout"
        },
        {
          "output_type": "stream",
          "text": [
            "/usr/local/lib/python3.7/dist-packages/sklearn/utils/validation.py:760: DataConversionWarning: A column-vector y was passed when a 1d array was expected. Please change the shape of y to (n_samples, ), for example using ravel().\n",
            "  y = column_or_1d(y, warn=True)\n",
            "/usr/local/lib/python3.7/dist-packages/sklearn/utils/validation.py:760: DataConversionWarning: A column-vector y was passed when a 1d array was expected. Please change the shape of y to (n_samples, ), for example using ravel().\n",
            "  y = column_or_1d(y, warn=True)\n"
          ],
          "name": "stderr"
        },
        {
          "output_type": "stream",
          "text": [
            "Accuracy on training data = 0.626529\n",
            "Accuracy on test data = 0.630635\n",
            "Accuracy on training data = 0.624400\n",
            "Accuracy on test data = 0.627617\n"
          ],
          "name": "stdout"
        }
      ]
    },
    {
      "cell_type": "markdown",
      "metadata": {
        "id": "GGEUrruN1f09"
      },
      "source": [
        "# Logistic Regression with Lasso"
      ]
    },
    {
      "cell_type": "code",
      "metadata": {
        "colab": {
          "base_uri": "https://localhost:8080/"
        },
        "id": "uaQB_2XO1kpI",
        "outputId": "4a5a7318-0216-4f50-f4bc-3ef85c34edaf"
      },
      "source": [
        "for c in num:\n",
        "  logreg = LogisticRegression(penalty = \"l1\", solver=\"liblinear\",C = c)\n",
        "  logreg.fit(x_train,y_2d_train)\n",
        "  train,test = accuracies(x_train,y_2d_train,x_test,y_2d_test)\n",
        "  lasso_test.append(test)\n",
        "  lasso_train.append(train)\n"
      ],
      "execution_count": 249,
      "outputs": [
        {
          "output_type": "stream",
          "text": [
            "/usr/local/lib/python3.7/dist-packages/sklearn/utils/validation.py:760: DataConversionWarning: A column-vector y was passed when a 1d array was expected. Please change the shape of y to (n_samples, ), for example using ravel().\n",
            "  y = column_or_1d(y, warn=True)\n",
            "/usr/local/lib/python3.7/dist-packages/sklearn/utils/validation.py:760: DataConversionWarning: A column-vector y was passed when a 1d array was expected. Please change the shape of y to (n_samples, ), for example using ravel().\n",
            "  y = column_or_1d(y, warn=True)\n",
            "/usr/local/lib/python3.7/dist-packages/sklearn/utils/validation.py:760: DataConversionWarning: A column-vector y was passed when a 1d array was expected. Please change the shape of y to (n_samples, ), for example using ravel().\n",
            "  y = column_or_1d(y, warn=True)\n"
          ],
          "name": "stderr"
        },
        {
          "output_type": "stream",
          "text": [
            "Accuracy on training data = 0.314397\n",
            "Accuracy on test data = 0.305771\n",
            "Accuracy on training data = 0.685603\n",
            "Accuracy on test data = 0.694229\n",
            "Accuracy on training data = 0.659157\n",
            "Accuracy on test data = 0.669223\n",
            "Accuracy on training data = 0.631612\n",
            "Accuracy on test data = 0.634300\n"
          ],
          "name": "stdout"
        },
        {
          "output_type": "stream",
          "text": [
            "/usr/local/lib/python3.7/dist-packages/sklearn/utils/validation.py:760: DataConversionWarning: A column-vector y was passed when a 1d array was expected. Please change the shape of y to (n_samples, ), for example using ravel().\n",
            "  y = column_or_1d(y, warn=True)\n",
            "/usr/local/lib/python3.7/dist-packages/sklearn/utils/validation.py:760: DataConversionWarning: A column-vector y was passed when a 1d array was expected. Please change the shape of y to (n_samples, ), for example using ravel().\n",
            "  y = column_or_1d(y, warn=True)\n"
          ],
          "name": "stderr"
        },
        {
          "output_type": "stream",
          "text": [
            "Accuracy on training data = 0.624949\n",
            "Accuracy on test data = 0.628480\n",
            "Accuracy on training data = 0.624193\n",
            "Accuracy on test data = 0.627617\n"
          ],
          "name": "stdout"
        },
        {
          "output_type": "stream",
          "text": [
            "/usr/local/lib/python3.7/dist-packages/sklearn/utils/validation.py:760: DataConversionWarning: A column-vector y was passed when a 1d array was expected. Please change the shape of y to (n_samples, ), for example using ravel().\n",
            "  y = column_or_1d(y, warn=True)\n"
          ],
          "name": "stderr"
        }
      ]
    },
    {
      "cell_type": "markdown",
      "metadata": {
        "id": "qlpRYwUG1p9L"
      },
      "source": [
        "# Logistic Regression with MinMax Scaler"
      ]
    },
    {
      "cell_type": "code",
      "metadata": {
        "colab": {
          "base_uri": "https://localhost:8080/"
        },
        "id": "1LbJaC_o1s5S",
        "outputId": "ee1fb2ca-b176-4945-cae5-9e6555491342"
      },
      "source": [
        "from sklearn.preprocessing import MinMaxScaler\n",
        "scaler = MinMaxScaler()\n",
        "x_minmax = scaler.fit_transform(x_train)\n",
        "x_minmax_test = scaler.fit_transform(x_test)\n",
        "for c in [.001,.01,.1,1,10]:\n",
        "  logreg = LogisticRegression(C = c)\n",
        "  logreg.fit(x_minmax,y_2d_train)\n",
        "  train, test =accuracies(x_minmax,y_2d_train,x_minmax_test,y_2d_test)\n",
        "  minmax_test.append(test)\n",
        "  minmax_train.append(train)"
      ],
      "execution_count": 250,
      "outputs": [
        {
          "output_type": "stream",
          "text": [
            "/usr/local/lib/python3.7/dist-packages/sklearn/utils/validation.py:760: DataConversionWarning: A column-vector y was passed when a 1d array was expected. Please change the shape of y to (n_samples, ), for example using ravel().\n",
            "  y = column_or_1d(y, warn=True)\n",
            "/usr/local/lib/python3.7/dist-packages/sklearn/utils/validation.py:760: DataConversionWarning: A column-vector y was passed when a 1d array was expected. Please change the shape of y to (n_samples, ), for example using ravel().\n",
            "  y = column_or_1d(y, warn=True)\n"
          ],
          "name": "stderr"
        },
        {
          "output_type": "stream",
          "text": [
            "Accuracy on training data = 0.685603\n",
            "Accuracy on test data = 0.694229\n",
            "Accuracy on training data = 0.685603\n",
            "Accuracy on test data = 0.694229\n"
          ],
          "name": "stdout"
        },
        {
          "output_type": "stream",
          "text": [
            "/usr/local/lib/python3.7/dist-packages/sklearn/utils/validation.py:760: DataConversionWarning: A column-vector y was passed when a 1d array was expected. Please change the shape of y to (n_samples, ), for example using ravel().\n",
            "  y = column_or_1d(y, warn=True)\n",
            "/usr/local/lib/python3.7/dist-packages/sklearn/utils/validation.py:760: DataConversionWarning: A column-vector y was passed when a 1d array was expected. Please change the shape of y to (n_samples, ), for example using ravel().\n",
            "  y = column_or_1d(y, warn=True)\n"
          ],
          "name": "stderr"
        },
        {
          "output_type": "stream",
          "text": [
            "Accuracy on training data = 0.676399\n",
            "Accuracy on test data = 0.668145\n",
            "Accuracy on training data = 0.658264\n",
            "Accuracy on test data = 0.651115\n"
          ],
          "name": "stdout"
        },
        {
          "output_type": "stream",
          "text": [
            "/usr/local/lib/python3.7/dist-packages/sklearn/utils/validation.py:760: DataConversionWarning: A column-vector y was passed when a 1d array was expected. Please change the shape of y to (n_samples, ), for example using ravel().\n",
            "  y = column_or_1d(y, warn=True)\n"
          ],
          "name": "stderr"
        },
        {
          "output_type": "stream",
          "text": [
            "Accuracy on training data = 0.643221\n",
            "Accuracy on test data = 0.627402\n"
          ],
          "name": "stdout"
        }
      ]
    },
    {
      "cell_type": "markdown",
      "metadata": {
        "id": "uTcLQrLz-iGQ"
      },
      "source": [
        "# Logistic Regression with Polynomial Feature Transformation\n",
        "\n",
        "---\n",
        "\n"
      ]
    },
    {
      "cell_type": "code",
      "metadata": {
        "colab": {
          "base_uri": "https://localhost:8080/"
        },
        "id": "VLRxLIgp-kHm",
        "outputId": "166eee12-0123-48ea-c018-26eb2d82e74d"
      },
      "source": [
        "for degree in [1,2,3,4,5]:\n",
        "  print(\"Degree: \" ,degree)\n",
        "  poly_features = preprocessing.PolynomialFeatures(degree = degree)\n",
        "  x_poly = poly_features.fit_transform(x_train)\n",
        "  x_poly_test = poly_features.fit_transform(x_test)\n",
        "  for c in num:\n",
        "    print(\"C: \", c)\n",
        "    logreg = LogisticRegression(C = c,max_iter = 1000)\n",
        "    logreg.fit(x_poly,y_2d_train)\n",
        "    train,test = accuracies(x_poly,y_2d_train,x_poly_test,y_2d_test)\n",
        "    pft_test.append((test,degree,c))\n",
        "    pft_train.append((train,degree,c))"
      ],
      "execution_count": 251,
      "outputs": [
        {
          "output_type": "stream",
          "text": [
            "/usr/local/lib/python3.7/dist-packages/sklearn/utils/validation.py:760: DataConversionWarning: A column-vector y was passed when a 1d array was expected. Please change the shape of y to (n_samples, ), for example using ravel().\n",
            "  y = column_or_1d(y, warn=True)\n"
          ],
          "name": "stderr"
        },
        {
          "output_type": "stream",
          "text": [
            "Degree:  1\n",
            "C:  0.0001\n",
            "Accuracy on training data = 0.685603\n",
            "Accuracy on test data = 0.694229\n",
            "C:  0.001\n"
          ],
          "name": "stdout"
        },
        {
          "output_type": "stream",
          "text": [
            "/usr/local/lib/python3.7/dist-packages/sklearn/utils/validation.py:760: DataConversionWarning: A column-vector y was passed when a 1d array was expected. Please change the shape of y to (n_samples, ), for example using ravel().\n",
            "  y = column_or_1d(y, warn=True)\n",
            "/usr/local/lib/python3.7/dist-packages/sklearn/utils/validation.py:760: DataConversionWarning: A column-vector y was passed when a 1d array was expected. Please change the shape of y to (n_samples, ), for example using ravel().\n",
            "  y = column_or_1d(y, warn=True)\n"
          ],
          "name": "stderr"
        },
        {
          "output_type": "stream",
          "text": [
            "Accuracy on training data = 0.684436\n",
            "Accuracy on test data = 0.693366\n",
            "C:  0.01\n",
            "Accuracy on training data = 0.655929\n",
            "Accuracy on test data = 0.664264\n",
            "C:  0.1\n"
          ],
          "name": "stdout"
        },
        {
          "output_type": "stream",
          "text": [
            "/usr/local/lib/python3.7/dist-packages/sklearn/utils/validation.py:760: DataConversionWarning: A column-vector y was passed when a 1d array was expected. Please change the shape of y to (n_samples, ), for example using ravel().\n",
            "  y = column_or_1d(y, warn=True)\n",
            "/usr/local/lib/python3.7/dist-packages/sklearn/utils/validation.py:760: DataConversionWarning: A column-vector y was passed when a 1d array was expected. Please change the shape of y to (n_samples, ), for example using ravel().\n",
            "  y = column_or_1d(y, warn=True)\n"
          ],
          "name": "stderr"
        },
        {
          "output_type": "stream",
          "text": [
            "Accuracy on training data = 0.636558\n",
            "Accuracy on test data = 0.641198\n",
            "C:  1\n",
            "Accuracy on training data = 0.626529\n",
            "Accuracy on test data = 0.630635\n",
            "C:  10\n"
          ],
          "name": "stdout"
        },
        {
          "output_type": "stream",
          "text": [
            "/usr/local/lib/python3.7/dist-packages/sklearn/utils/validation.py:760: DataConversionWarning: A column-vector y was passed when a 1d array was expected. Please change the shape of y to (n_samples, ), for example using ravel().\n",
            "  y = column_or_1d(y, warn=True)\n",
            "/usr/local/lib/python3.7/dist-packages/sklearn/utils/validation.py:760: DataConversionWarning: A column-vector y was passed when a 1d array was expected. Please change the shape of y to (n_samples, ), for example using ravel().\n",
            "  y = column_or_1d(y, warn=True)\n"
          ],
          "name": "stderr"
        },
        {
          "output_type": "stream",
          "text": [
            "Accuracy on training data = 0.624400\n",
            "Accuracy on test data = 0.627617\n",
            "Degree:  2\n",
            "C:  0.0001\n",
            "Accuracy on training data = 0.684642\n",
            "Accuracy on test data = 0.693366\n",
            "C:  0.001\n"
          ],
          "name": "stdout"
        },
        {
          "output_type": "stream",
          "text": [
            "/usr/local/lib/python3.7/dist-packages/sklearn/utils/validation.py:760: DataConversionWarning: A column-vector y was passed when a 1d array was expected. Please change the shape of y to (n_samples, ), for example using ravel().\n",
            "  y = column_or_1d(y, warn=True)\n",
            "/usr/local/lib/python3.7/dist-packages/sklearn/utils/validation.py:760: DataConversionWarning: A column-vector y was passed when a 1d array was expected. Please change the shape of y to (n_samples, ), for example using ravel().\n",
            "  y = column_or_1d(y, warn=True)\n"
          ],
          "name": "stderr"
        },
        {
          "output_type": "stream",
          "text": [
            "Accuracy on training data = 0.681138\n",
            "Accuracy on test data = 0.690995\n",
            "C:  0.01\n",
            "Accuracy on training data = 0.664721\n",
            "Accuracy on test data = 0.676121\n",
            "C:  0.1\n"
          ],
          "name": "stdout"
        },
        {
          "output_type": "stream",
          "text": [
            "/usr/local/lib/python3.7/dist-packages/sklearn/utils/validation.py:760: DataConversionWarning: A column-vector y was passed when a 1d array was expected. Please change the shape of y to (n_samples, ), for example using ravel().\n",
            "  y = column_or_1d(y, warn=True)\n"
          ],
          "name": "stderr"
        },
        {
          "output_type": "stream",
          "text": [
            "Accuracy on training data = 0.621034\n",
            "Accuracy on test data = 0.629126\n",
            "C:  1\n"
          ],
          "name": "stdout"
        },
        {
          "output_type": "stream",
          "text": [
            "/usr/local/lib/python3.7/dist-packages/sklearn/utils/validation.py:760: DataConversionWarning: A column-vector y was passed when a 1d array was expected. Please change the shape of y to (n_samples, ), for example using ravel().\n",
            "  y = column_or_1d(y, warn=True)\n"
          ],
          "name": "stderr"
        },
        {
          "output_type": "stream",
          "text": [
            "Accuracy on training data = 0.601525\n",
            "Accuracy on test data = 0.603042\n",
            "C:  10\n"
          ],
          "name": "stdout"
        },
        {
          "output_type": "stream",
          "text": [
            "/usr/local/lib/python3.7/dist-packages/sklearn/utils/validation.py:760: DataConversionWarning: A column-vector y was passed when a 1d array was expected. Please change the shape of y to (n_samples, ), for example using ravel().\n",
            "  y = column_or_1d(y, warn=True)\n"
          ],
          "name": "stderr"
        },
        {
          "output_type": "stream",
          "text": [
            "Accuracy on training data = 0.598984\n",
            "Accuracy on test data = 0.600240\n",
            "Degree:  3\n",
            "C:  0.0001\n",
            "Accuracy on training data = 0.682650\n",
            "Accuracy on test data = 0.692504\n",
            "C:  0.001\n"
          ],
          "name": "stdout"
        },
        {
          "output_type": "stream",
          "text": [
            "/usr/local/lib/python3.7/dist-packages/sklearn/utils/validation.py:760: DataConversionWarning: A column-vector y was passed when a 1d array was expected. Please change the shape of y to (n_samples, ), for example using ravel().\n",
            "  y = column_or_1d(y, warn=True)\n",
            "/usr/local/lib/python3.7/dist-packages/sklearn/utils/validation.py:760: DataConversionWarning: A column-vector y was passed when a 1d array was expected. Please change the shape of y to (n_samples, ), for example using ravel().\n",
            "  y = column_or_1d(y, warn=True)\n"
          ],
          "name": "stderr"
        },
        {
          "output_type": "stream",
          "text": [
            "Accuracy on training data = 0.677086\n",
            "Accuracy on test data = 0.688193\n",
            "C:  0.01\n"
          ],
          "name": "stdout"
        },
        {
          "output_type": "stream",
          "text": [
            "/usr/local/lib/python3.7/dist-packages/sklearn/utils/validation.py:760: DataConversionWarning: A column-vector y was passed when a 1d array was expected. Please change the shape of y to (n_samples, ), for example using ravel().\n",
            "  y = column_or_1d(y, warn=True)\n"
          ],
          "name": "stderr"
        },
        {
          "output_type": "stream",
          "text": [
            "Accuracy on training data = 0.665202\n",
            "Accuracy on test data = 0.675474\n",
            "C:  0.1\n"
          ],
          "name": "stdout"
        },
        {
          "output_type": "stream",
          "text": [
            "/usr/local/lib/python3.7/dist-packages/sklearn/utils/validation.py:760: DataConversionWarning: A column-vector y was passed when a 1d array was expected. Please change the shape of y to (n_samples, ), for example using ravel().\n",
            "  y = column_or_1d(y, warn=True)\n"
          ],
          "name": "stderr"
        },
        {
          "output_type": "stream",
          "text": [
            "Accuracy on training data = 0.627903\n",
            "Accuracy on test data = 0.638612\n",
            "C:  1\n"
          ],
          "name": "stdout"
        },
        {
          "output_type": "stream",
          "text": [
            "/usr/local/lib/python3.7/dist-packages/sklearn/utils/validation.py:760: DataConversionWarning: A column-vector y was passed when a 1d array was expected. Please change the shape of y to (n_samples, ), for example using ravel().\n",
            "  y = column_or_1d(y, warn=True)\n"
          ],
          "name": "stderr"
        },
        {
          "output_type": "stream",
          "text": [
            "Accuracy on training data = 0.607158\n",
            "Accuracy on test data = 0.614899\n",
            "C:  10\n"
          ],
          "name": "stdout"
        },
        {
          "output_type": "stream",
          "text": [
            "/usr/local/lib/python3.7/dist-packages/sklearn/utils/validation.py:760: DataConversionWarning: A column-vector y was passed when a 1d array was expected. Please change the shape of y to (n_samples, ), for example using ravel().\n",
            "  y = column_or_1d(y, warn=True)\n"
          ],
          "name": "stderr"
        },
        {
          "output_type": "stream",
          "text": [
            "Accuracy on training data = 0.598709\n",
            "Accuracy on test data = 0.605629\n",
            "Degree:  4\n",
            "C:  0.0001\n"
          ],
          "name": "stdout"
        },
        {
          "output_type": "stream",
          "text": [
            "/usr/local/lib/python3.7/dist-packages/sklearn/utils/validation.py:760: DataConversionWarning: A column-vector y was passed when a 1d array was expected. Please change the shape of y to (n_samples, ), for example using ravel().\n",
            "  y = column_or_1d(y, warn=True)\n"
          ],
          "name": "stderr"
        },
        {
          "output_type": "stream",
          "text": [
            "Accuracy on training data = 0.680726\n",
            "Accuracy on test data = 0.690348\n",
            "C:  0.001\n"
          ],
          "name": "stdout"
        },
        {
          "output_type": "stream",
          "text": [
            "/usr/local/lib/python3.7/dist-packages/sklearn/utils/validation.py:760: DataConversionWarning: A column-vector y was passed when a 1d array was expected. Please change the shape of y to (n_samples, ), for example using ravel().\n",
            "  y = column_or_1d(y, warn=True)\n"
          ],
          "name": "stderr"
        },
        {
          "output_type": "stream",
          "text": [
            "Accuracy on training data = 0.676467\n",
            "Accuracy on test data = 0.688408\n",
            "C:  0.01\n"
          ],
          "name": "stdout"
        },
        {
          "output_type": "stream",
          "text": [
            "/usr/local/lib/python3.7/dist-packages/sklearn/utils/validation.py:760: DataConversionWarning: A column-vector y was passed when a 1d array was expected. Please change the shape of y to (n_samples, ), for example using ravel().\n",
            "  y = column_or_1d(y, warn=True)\n"
          ],
          "name": "stderr"
        },
        {
          "output_type": "stream",
          "text": [
            "Accuracy on training data = 0.659089\n",
            "Accuracy on test data = 0.668360\n",
            "C:  0.1\n"
          ],
          "name": "stdout"
        },
        {
          "output_type": "stream",
          "text": [
            "/usr/local/lib/python3.7/dist-packages/sklearn/utils/validation.py:760: DataConversionWarning: A column-vector y was passed when a 1d array was expected. Please change the shape of y to (n_samples, ), for example using ravel().\n",
            "  y = column_or_1d(y, warn=True)\n",
            "/usr/local/lib/python3.7/dist-packages/sklearn/linear_model/_logistic.py:940: ConvergenceWarning: lbfgs failed to converge (status=1):\n",
            "STOP: TOTAL NO. of ITERATIONS REACHED LIMIT.\n",
            "\n",
            "Increase the number of iterations (max_iter) or scale the data as shown in:\n",
            "    https://scikit-learn.org/stable/modules/preprocessing.html\n",
            "Please also refer to the documentation for alternative solver options:\n",
            "    https://scikit-learn.org/stable/modules/linear_model.html#logistic-regression\n",
            "  extra_warning_msg=_LOGISTIC_SOLVER_CONVERGENCE_MSG)\n",
            "/usr/local/lib/python3.7/dist-packages/sklearn/utils/validation.py:760: DataConversionWarning: A column-vector y was passed when a 1d array was expected. Please change the shape of y to (n_samples, ), for example using ravel().\n",
            "  y = column_or_1d(y, warn=True)\n"
          ],
          "name": "stderr"
        },
        {
          "output_type": "stream",
          "text": [
            "Accuracy on training data = 0.619591\n",
            "Accuracy on test data = 0.624815\n",
            "C:  1\n"
          ],
          "name": "stdout"
        },
        {
          "output_type": "stream",
          "text": [
            "/usr/local/lib/python3.7/dist-packages/sklearn/linear_model/_logistic.py:940: ConvergenceWarning: lbfgs failed to converge (status=1):\n",
            "STOP: TOTAL NO. of ITERATIONS REACHED LIMIT.\n",
            "\n",
            "Increase the number of iterations (max_iter) or scale the data as shown in:\n",
            "    https://scikit-learn.org/stable/modules/preprocessing.html\n",
            "Please also refer to the documentation for alternative solver options:\n",
            "    https://scikit-learn.org/stable/modules/linear_model.html#logistic-regression\n",
            "  extra_warning_msg=_LOGISTIC_SOLVER_CONVERGENCE_MSG)\n",
            "/usr/local/lib/python3.7/dist-packages/sklearn/utils/validation.py:760: DataConversionWarning: A column-vector y was passed when a 1d array was expected. Please change the shape of y to (n_samples, ), for example using ravel().\n",
            "  y = column_or_1d(y, warn=True)\n"
          ],
          "name": "stderr"
        },
        {
          "output_type": "stream",
          "text": [
            "Accuracy on training data = 0.584971\n",
            "Accuracy on test data = 0.588815\n",
            "C:  10\n"
          ],
          "name": "stdout"
        },
        {
          "output_type": "stream",
          "text": [
            "/usr/local/lib/python3.7/dist-packages/sklearn/linear_model/_logistic.py:940: ConvergenceWarning: lbfgs failed to converge (status=1):\n",
            "STOP: TOTAL NO. of ITERATIONS REACHED LIMIT.\n",
            "\n",
            "Increase the number of iterations (max_iter) or scale the data as shown in:\n",
            "    https://scikit-learn.org/stable/modules/preprocessing.html\n",
            "Please also refer to the documentation for alternative solver options:\n",
            "    https://scikit-learn.org/stable/modules/linear_model.html#logistic-regression\n",
            "  extra_warning_msg=_LOGISTIC_SOLVER_CONVERGENCE_MSG)\n",
            "/usr/local/lib/python3.7/dist-packages/sklearn/utils/validation.py:760: DataConversionWarning: A column-vector y was passed when a 1d array was expected. Please change the shape of y to (n_samples, ), for example using ravel().\n",
            "  y = column_or_1d(y, warn=True)\n"
          ],
          "name": "stderr"
        },
        {
          "output_type": "stream",
          "text": [
            "Accuracy on training data = 0.580094\n",
            "Accuracy on test data = 0.582132\n",
            "Degree:  5\n",
            "C:  0.0001\n",
            "Accuracy on training data = 0.679490\n",
            "Accuracy on test data = 0.689917\n",
            "C:  0.001\n"
          ],
          "name": "stdout"
        },
        {
          "output_type": "stream",
          "text": [
            "/usr/local/lib/python3.7/dist-packages/sklearn/utils/validation.py:760: DataConversionWarning: A column-vector y was passed when a 1d array was expected. Please change the shape of y to (n_samples, ), for example using ravel().\n",
            "  y = column_or_1d(y, warn=True)\n"
          ],
          "name": "stderr"
        },
        {
          "output_type": "stream",
          "text": [
            "Accuracy on training data = 0.673514\n",
            "Accuracy on test data = 0.686253\n",
            "C:  0.01\n"
          ],
          "name": "stdout"
        },
        {
          "output_type": "stream",
          "text": [
            "/usr/local/lib/python3.7/dist-packages/sklearn/utils/validation.py:760: DataConversionWarning: A column-vector y was passed when a 1d array was expected. Please change the shape of y to (n_samples, ), for example using ravel().\n",
            "  y = column_or_1d(y, warn=True)\n",
            "/usr/local/lib/python3.7/dist-packages/sklearn/linear_model/_logistic.py:940: ConvergenceWarning: lbfgs failed to converge (status=1):\n",
            "STOP: TOTAL NO. of ITERATIONS REACHED LIMIT.\n",
            "\n",
            "Increase the number of iterations (max_iter) or scale the data as shown in:\n",
            "    https://scikit-learn.org/stable/modules/preprocessing.html\n",
            "Please also refer to the documentation for alternative solver options:\n",
            "    https://scikit-learn.org/stable/modules/linear_model.html#logistic-regression\n",
            "  extra_warning_msg=_LOGISTIC_SOLVER_CONVERGENCE_MSG)\n",
            "/usr/local/lib/python3.7/dist-packages/sklearn/utils/validation.py:760: DataConversionWarning: A column-vector y was passed when a 1d array was expected. Please change the shape of y to (n_samples, ), for example using ravel().\n",
            "  y = column_or_1d(y, warn=True)\n"
          ],
          "name": "stderr"
        },
        {
          "output_type": "stream",
          "text": [
            "Accuracy on training data = 0.660050\n",
            "Accuracy on test data = 0.669223\n",
            "C:  0.1\n"
          ],
          "name": "stdout"
        },
        {
          "output_type": "stream",
          "text": [
            "/usr/local/lib/python3.7/dist-packages/sklearn/linear_model/_logistic.py:940: ConvergenceWarning: lbfgs failed to converge (status=1):\n",
            "STOP: TOTAL NO. of ITERATIONS REACHED LIMIT.\n",
            "\n",
            "Increase the number of iterations (max_iter) or scale the data as shown in:\n",
            "    https://scikit-learn.org/stable/modules/preprocessing.html\n",
            "Please also refer to the documentation for alternative solver options:\n",
            "    https://scikit-learn.org/stable/modules/linear_model.html#logistic-regression\n",
            "  extra_warning_msg=_LOGISTIC_SOLVER_CONVERGENCE_MSG)\n",
            "/usr/local/lib/python3.7/dist-packages/sklearn/utils/validation.py:760: DataConversionWarning: A column-vector y was passed when a 1d array was expected. Please change the shape of y to (n_samples, ), for example using ravel().\n",
            "  y = column_or_1d(y, warn=True)\n"
          ],
          "name": "stderr"
        },
        {
          "output_type": "stream",
          "text": [
            "Accuracy on training data = 0.612653\n",
            "Accuracy on test data = 0.617055\n",
            "C:  1\n"
          ],
          "name": "stdout"
        },
        {
          "output_type": "stream",
          "text": [
            "/usr/local/lib/python3.7/dist-packages/sklearn/linear_model/_logistic.py:940: ConvergenceWarning: lbfgs failed to converge (status=1):\n",
            "STOP: TOTAL NO. of ITERATIONS REACHED LIMIT.\n",
            "\n",
            "Increase the number of iterations (max_iter) or scale the data as shown in:\n",
            "    https://scikit-learn.org/stable/modules/preprocessing.html\n",
            "Please also refer to the documentation for alternative solver options:\n",
            "    https://scikit-learn.org/stable/modules/linear_model.html#logistic-regression\n",
            "  extra_warning_msg=_LOGISTIC_SOLVER_CONVERGENCE_MSG)\n",
            "/usr/local/lib/python3.7/dist-packages/sklearn/utils/validation.py:760: DataConversionWarning: A column-vector y was passed when a 1d array was expected. Please change the shape of y to (n_samples, ), for example using ravel().\n",
            "  y = column_or_1d(y, warn=True)\n"
          ],
          "name": "stderr"
        },
        {
          "output_type": "stream",
          "text": [
            "Accuracy on training data = 0.593214\n",
            "Accuracy on test data = 0.596144\n",
            "C:  10\n",
            "Accuracy on training data = 0.584147\n",
            "Accuracy on test data = 0.583857\n"
          ],
          "name": "stdout"
        },
        {
          "output_type": "stream",
          "text": [
            "/usr/local/lib/python3.7/dist-packages/sklearn/linear_model/_logistic.py:940: ConvergenceWarning: lbfgs failed to converge (status=1):\n",
            "STOP: TOTAL NO. of ITERATIONS REACHED LIMIT.\n",
            "\n",
            "Increase the number of iterations (max_iter) or scale the data as shown in:\n",
            "    https://scikit-learn.org/stable/modules/preprocessing.html\n",
            "Please also refer to the documentation for alternative solver options:\n",
            "    https://scikit-learn.org/stable/modules/linear_model.html#logistic-regression\n",
            "  extra_warning_msg=_LOGISTIC_SOLVER_CONVERGENCE_MSG)\n"
          ],
          "name": "stderr"
        }
      ]
    },
    {
      "cell_type": "code",
      "metadata": {
        "colab": {
          "base_uri": "https://localhost:8080/"
        },
        "id": "aiQLwmGuIbcx",
        "outputId": "26b63bad-dd3d-4efe-c035-c9d578d9e91e"
      },
      "source": [
        "print(pft_test)\n",
        "print(pft_train)\n",
        "\n",
        "best_res_test = 0\n",
        "best_res_train = 0\n",
        "best_degree, best_c = 0,0\n",
        "\n",
        "for num in pft_test:\n",
        "  if num[0] > best_res_test:\n",
        "    best_res_test = num[0]\n",
        "    best_degree,best_c = num[1],num[2]\n",
        "\n",
        "print(best_degree,best_c)"
      ],
      "execution_count": 254,
      "outputs": [
        {
          "output_type": "stream",
          "text": [
            "[(0.6942286348501665, 1, 0.0001), (0.6933663545622634, 1, 0.001), (0.6642643948455348, 1, 0.01), (0.6411983971441277, 1, 0.1), (0.630635463617315, 1, 1), (0.6276174826096543, 1, 10), (0.6933663545622634, 2, 0.0001), (0.69099508377053, 2, 0.001), (0.676120748804202, 2, 0.01), (0.6291264731134847, 2, 0.1), (0.6030424944044168, 2, 1), (0.6002400834687319, 2, 10), (0.6925040742743603, 3, 0.0001), (0.688192672834845, 3, 0.001), (0.6754740385882747, 3, 0.01), (0.6386115562804184, 3, 0.1), (0.6148988483630841, 3, 1), (0.605629335268126, 3, 10), (0.6903483735546027, 4, 0.0001), (0.6884082429068208, 4, 0.001), (0.6683602262130743, 4, 0.01), (0.6248150716739693, 4, 0.1), (0.5888148696540162, 4, 1), (0.5821321974227675, 4, 10), (0.6899172334106511, 5, 0.0001), (0.6862525421870631, 5, 0.001), (0.6692225065009775, 5, 0.01), (0.6170545490828417, 5, 0.1), (0.5961442521011923, 5, 1), (0.5838567579985735, 5, 10)]\n",
            "[(0.6856032568467801, 1, 0.0001), (0.6844355087467079, 1, 0.001), (0.6559287168920026, 1, 0.01), (0.636557836643745, 1, 0.1), (0.6265289411960655, 1, 1), (0.6243995181900514, 1, 10), (0.6846415819408384, 2, 0.0001), (0.6811383376406215, 2, 0.001), (0.6647211731748996, 2, 0.01), (0.6210336560192549, 2, 0.1), (0.601525393641577, 2, 1), (0.5989838242473021, 2, 10), (0.6826495410642445, 3, 0.0001), (0.6770855648227236, 3, 0.001), (0.6652020106278705, 3, 0.01), (0.6279027624902682, 3, 0.1), (0.6071580609478079, 3, 1), (0.5987090599884616, 3, 10), (0.6807261912523607, 4, 0.0001), (0.6764673452403325, 4, 0.001), (0.6590885058686687, 4, 0.01), (0.6195911436603421, 4, 0.1), (0.5849708470464349, 4, 1), (0.5800937814520154, 4, 10), (0.6794897520875783, 5, 0.0001), (0.6735136294577967, 5, 0.001), (0.6600501807746105, 5, 0.01), (0.6126533461246186, 5, 0.1), (0.5932137748116508, 5, 1), (0.5841465542699132, 5, 10)]\n",
            "1 0.0001\n"
          ],
          "name": "stdout"
        }
      ]
    }
  ]
}